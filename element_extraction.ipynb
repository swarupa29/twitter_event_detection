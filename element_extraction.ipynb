{
  "nbformat": 4,
  "nbformat_minor": 0,
  "metadata": {
    "kernelspec": {
      "display_name": "Python 3",
      "language": "python",
      "name": "python3"
    },
    "language_info": {
      "codemirror_mode": {
        "name": "ipython",
        "version": 3
      },
      "file_extension": ".py",
      "mimetype": "text/x-python",
      "name": "python",
      "nbconvert_exporter": "python",
      "pygments_lexer": "ipython3",
      "version": "3.7.6"
    },
    "colab": {
      "name": "Untitled7.ipynb",
      "provenance": [],
      "include_colab_link": true
    }
  },
  "cells": [
    {
      "cell_type": "markdown",
      "metadata": {
        "id": "view-in-github",
        "colab_type": "text"
      },
      "source": [
        "<a href=\"https://colab.research.google.com/github/swarupa29/twitter_event_detection/blob/master/element_extraction.ipynb\" target=\"_parent\"><img src=\"https://colab.research.google.com/assets/colab-badge.svg\" alt=\"Open In Colab\"/></a>"
      ]
    },
    {
      "cell_type": "code",
      "metadata": {
        "id": "cxckNP4E5SGe",
        "colab_type": "code",
        "colab": {},
        "outputId": "8ebade3c-3167-4509-abfa-9e6582f83ba4"
      },
      "source": [
        "import keras\n",
        "import pandas as pd\n",
        "import numpy as np"
      ],
      "execution_count": null,
      "outputs": [
        {
          "output_type": "stream",
          "text": [
            "Using TensorFlow backend.\n"
          ],
          "name": "stderr"
        }
      ]
    },
    {
      "cell_type": "code",
      "metadata": {
        "id": "7ozr3C5x5SGj",
        "colab_type": "code",
        "colab": {}
      },
      "source": [
        "df=pd.read_csv(r'../euro2012_V2_SV_LabeledDataset.csv')"
      ],
      "execution_count": null,
      "outputs": []
    },
    {
      "cell_type": "code",
      "metadata": {
        "id": "3DzLLWwl5SGm",
        "colab_type": "code",
        "colab": {},
        "outputId": "9bd48037-0f60-4733-d634-e1b1739d6fbc"
      },
      "source": [
        "x=df['processed_string']\n",
        "len(x)"
      ],
      "execution_count": null,
      "outputs": [
        {
          "output_type": "execute_result",
          "data": {
            "text/plain": [
              "190"
            ]
          },
          "metadata": {
            "tags": []
          },
          "execution_count": 4
        }
      ]
    },
    {
      "cell_type": "code",
      "metadata": {
        "id": "OmoeTMSQ5SGo",
        "colab_type": "code",
        "colab": {}
      },
      "source": [
        "from tensorflow.keras.preprocessing.text import one_hot\n",
        "from keras.utils import to_categorical"
      ],
      "execution_count": null,
      "outputs": []
    },
    {
      "cell_type": "code",
      "metadata": {
        "id": "gXeBdXij5SGs",
        "colab_type": "code",
        "colab": {},
        "outputId": "113e27bd-7321-4b96-e348-e06fbc52274e"
      },
      "source": [
        "onehot_repr=[one_hot(words,5000)for words in x] \n",
        "print(onehot_repr[4])"
      ],
      "execution_count": null,
      "outputs": [
        {
          "output_type": "stream",
          "text": [
            "[48, 4864, 3191, 770, 2995, 3638, 4363, 511, 2392, 4747, 2971, 4800, 4864, 770, 2995, 4402, 4363, 2684, 1793, 121, 4147]\n"
          ],
          "name": "stdout"
        }
      ]
    },
    {
      "cell_type": "code",
      "metadata": {
        "id": "0ilkHjiS5SGu",
        "colab_type": "code",
        "colab": {},
        "outputId": "9b26b311-ce2d-4e42-d920-f60e6966d14c"
      },
      "source": [
        "y=df['labeled_string']\n",
        "len(y)"
      ],
      "execution_count": null,
      "outputs": [
        {
          "output_type": "execute_result",
          "data": {
            "text/plain": [
              "190"
            ]
          },
          "metadata": {
            "tags": []
          },
          "execution_count": 7
        }
      ]
    },
    {
      "cell_type": "code",
      "metadata": {
        "id": "XiJXw4mP5SGx",
        "colab_type": "code",
        "colab": {},
        "outputId": "0e4c871d-74bb-45b8-f4f2-7136f8c75daf"
      },
      "source": [
        "tag_to_ix={}\n",
        "for sentence in y:\n",
        "    for tag in sentence.split():\n",
        "            if tag not in tag_to_ix:\n",
        "                tag_to_ix[tag] = len(tag_to_ix)\n",
        "print(tag_to_ix)"
      ],
      "execution_count": null,
      "outputs": [
        {
          "output_type": "stream",
          "text": [
            "{'O': 0, 'S-PAR': 1, 'S-TRIG': 2, 'S-DT': 3, 'B-PAR': 4, 'E-PAR': 5, 'B-DT': 6, 'I-DT': 7, 'E-DT': 8, 'S-LOC': 9, 'S-VID': 10, 'I-PAR': 11, 'B-TRIG': 12, 'E-TRIG': 13}\n"
          ],
          "name": "stdout"
        }
      ]
    },
    {
      "cell_type": "code",
      "metadata": {
        "id": "Xq3I2j2n5SG0",
        "colab_type": "code",
        "colab": {},
        "outputId": "a2a8cf81-78ac-4584-c58f-ba36d47db98c"
      },
      "source": [
        "tags = []\n",
        "for tag in (df[\"labeled_string\"].values):\n",
        "        tags.append(tag)\n",
        "print(len(tags))"
      ],
      "execution_count": null,
      "outputs": [
        {
          "output_type": "stream",
          "text": [
            "190\n"
          ],
          "name": "stdout"
        }
      ]
    },
    {
      "cell_type": "code",
      "metadata": {
        "id": "VyqA8qFX5SG3",
        "colab_type": "code",
        "colab": {},
        "outputId": "3dac6025-f1a9-462a-d317-4fda3da22f96"
      },
      "source": [
        "y_final=[]\n",
        "for i in tags:\n",
        "    tg=[tag_to_ix[j] for j in i.split()]\n",
        "    y_final.append(tg)\n",
        "print(y_final[40])      \n",
        "        \n"
      ],
      "execution_count": null,
      "outputs": [
        {
          "output_type": "stream",
          "text": [
            "[0, 0, 0, 0, 1, 0, 0, 2, 0, 0, 2, 0, 0, 0]\n"
          ],
          "name": "stdout"
        }
      ]
    },
    {
      "cell_type": "code",
      "metadata": {
        "id": "sB98ehkW5SG6",
        "colab_type": "code",
        "colab": {},
        "outputId": "f3613b3b-2f47-41d1-e694-bf2e00275595"
      },
      "source": [
        "from keras.preprocessing.sequence import pad_sequences\n",
        "y_FIN = pad_sequences(maxlen=30, sequences=y_final, padding=\"post\", value=tag_to_ix[\"O\"])\n",
        "y_FINAL=[to_categorical(i, num_classes=18) for i in y_FIN]\n",
        "print(len(y_FINAL))"
      ],
      "execution_count": null,
      "outputs": [
        {
          "output_type": "stream",
          "text": [
            "190\n"
          ],
          "name": "stdout"
        }
      ]
    },
    {
      "cell_type": "code",
      "metadata": {
        "id": "kaxQWIlP5SG8",
        "colab_type": "code",
        "colab": {},
        "outputId": "eb6752c0-3f93-43dd-8c5d-82b051cd06eb"
      },
      "source": [
        "x_FINAL=pad_sequences(onehot_repr,padding='post',maxlen=30)\n",
        "print(len(x_FINAL))"
      ],
      "execution_count": null,
      "outputs": [
        {
          "output_type": "stream",
          "text": [
            "190\n"
          ],
          "name": "stdout"
        }
      ]
    },
    {
      "cell_type": "code",
      "metadata": {
        "id": "as7KCLfn5SG_",
        "colab_type": "code",
        "colab": {}
      },
      "source": [
        "from keras_contrib.layers import *\n",
        "from keras.losses import *\n",
        "import keras.metrics\n",
        "import tensorflow as tf\n",
        "import keras as k"
      ],
      "execution_count": null,
      "outputs": []
    },
    {
      "cell_type": "code",
      "metadata": {
        "id": "ujyfQfSl5SHB",
        "colab_type": "code",
        "colab": {}
      },
      "source": [
        "#building the model\n",
        "from keras.models import Model, Input\n",
        "from keras.layers import LSTM, Embedding, Dense, TimeDistributed, Dropout, Bidirectional,Flatten\n",
        "from keras_contrib.layers import CRF\n",
        "#from tf_crf_layer.loss import crf_loss, ConditionalRandomFieldLoss"
      ],
      "execution_count": null,
      "outputs": []
    },
    {
      "cell_type": "code",
      "metadata": {
        "id": "gsNfBsSW5SHI",
        "colab_type": "code",
        "colab": {}
      },
      "source": [
        ""
      ],
      "execution_count": null,
      "outputs": []
    },
    {
      "cell_type": "code",
      "metadata": {
        "id": "P8nBoP4I5SHO",
        "colab_type": "code",
        "colab": {},
        "outputId": "3cf397b0-1d15-4350-a14d-d1bc77c9e325"
      },
      "source": [
        "MAX_LEN=30\n",
        "adam = k.optimizers.Adam(lr=0.0005, beta_1=0.9, beta_2=0.999)\n",
        "input = Input(shape=(MAX_LEN,))\n",
        "model = Embedding(input_dim=5000, output_dim=300, # n_words + 2 (PAD & UNK)\n",
        "                  input_length=30)(input) \n",
        "model = Bidirectional(LSTM(units=100, return_sequences=True,\n",
        "                           recurrent_dropout=0.1))(model)  \n",
        "model = TimeDistributed(Dense(1, activation=\"sigmoid\"))(model) \n",
        "#model = TimeDistributed(Dense(1, activation=\"tanh\"))(model)\n",
        "crf = CRF(18) \n",
        "out = crf(model)  # output\n",
        "model = Model(input, out)\n",
        "model.compile(loss=crf.loss_function, optimizer=adam, metrics=[crf.accuracy])\n",
        "model.summary()"
      ],
      "execution_count": null,
      "outputs": [
        {
          "output_type": "stream",
          "text": [
            "C:\\conda\\Anaconda3\\lib\\site-packages\\keras_contrib-2.0.8-py3.7.egg\\keras_contrib\\layers\\crf.py:346: UserWarning: CRF.loss_function is deprecated and it might be removed in the future. Please use losses.crf_loss instead.\n",
            "C:\\conda\\Anaconda3\\lib\\site-packages\\keras_contrib-2.0.8-py3.7.egg\\keras_contrib\\layers\\crf.py:353: UserWarning: CRF.accuracy is deprecated and it might be removed in the future. Please use metrics.crf_accuracy\n"
          ],
          "name": "stderr"
        },
        {
          "output_type": "stream",
          "text": [
            "Model: \"model_2\"\n",
            "_________________________________________________________________\n",
            "Layer (type)                 Output Shape              Param #   \n",
            "=================================================================\n",
            "input_2 (InputLayer)         (None, 30)                0         \n",
            "_________________________________________________________________\n",
            "embedding_2 (Embedding)      (None, 30, 300)           1500000   \n",
            "_________________________________________________________________\n",
            "bidirectional_2 (Bidirection (None, 30, 200)           320800    \n",
            "_________________________________________________________________\n",
            "time_distributed_2 (TimeDist (None, 30, 1)             201       \n",
            "_________________________________________________________________\n",
            "time_distributed_3 (TimeDist (None, 30, 1)             2         \n",
            "_________________________________________________________________\n",
            "crf_2 (CRF)                  (None, 30, 18)            396       \n",
            "=================================================================\n",
            "Total params: 1,821,399\n",
            "Trainable params: 1,821,399\n",
            "Non-trainable params: 0\n",
            "_________________________________________________________________\n"
          ],
          "name": "stdout"
        }
      ]
    },
    {
      "cell_type": "code",
      "metadata": {
        "id": "htPTZHHG5SHQ",
        "colab_type": "code",
        "colab": {}
      },
      "source": [
        "import numpy as np\n",
        "X_final=np.array(x_FINAL)\n",
        "y_final=np.array(y_FINAL)\n"
      ],
      "execution_count": null,
      "outputs": []
    },
    {
      "cell_type": "code",
      "metadata": {
        "id": "g1IPivGY5SHT",
        "colab_type": "code",
        "colab": {}
      },
      "source": [
        "from sklearn.model_selection import train_test_split\n",
        "X_train, X_test, y_train, y_test = train_test_split(X_final, y_final, test_size=0.33, random_state=20)"
      ],
      "execution_count": null,
      "outputs": []
    },
    {
      "cell_type": "code",
      "metadata": {
        "id": "efqjvYfI5SHW",
        "colab_type": "code",
        "colab": {},
        "outputId": "43694046-d1d7-452f-e13c-40bb2cb054e5"
      },
      "source": [
        "model.fit(X_train,y_train,validation_data=(X_test,y_test),epochs=110,batch_size=64)"
      ],
      "execution_count": null,
      "outputs": [
        {
          "output_type": "stream",
          "text": [
            "C:\\conda\\Anaconda3\\lib\\site-packages\\tensorflow_core\\python\\framework\\indexed_slices.py:433: UserWarning: Converting sparse IndexedSlices to a dense Tensor of unknown shape. This may consume a large amount of memory.\n",
            "  \"Converting sparse IndexedSlices to a dense Tensor of unknown shape. \"\n"
          ],
          "name": "stderr"
        },
        {
          "output_type": "stream",
          "text": [
            "Train on 127 samples, validate on 63 samples\n",
            "Epoch 1/110\n",
            "127/127 [==============================] - 3s 21ms/step - loss: 2.9229 - crf_viterbi_accuracy: 7.8538e-04 - val_loss: 2.9161 - val_crf_viterbi_accuracy: 5.2910e-04\n",
            "Epoch 2/110\n",
            "127/127 [==============================] - 0s 3ms/step - loss: 2.9123 - crf_viterbi_accuracy: 7.8952e-04 - val_loss: 2.9057 - val_crf_viterbi_accuracy: 5.2910e-04\n",
            "Epoch 3/110\n",
            "127/127 [==============================] - 0s 3ms/step - loss: 2.9019 - crf_viterbi_accuracy: 7.8125e-04 - val_loss: 2.8956 - val_crf_viterbi_accuracy: 5.2910e-04\n",
            "Epoch 4/110\n",
            "127/127 [==============================] - 0s 3ms/step - loss: 2.8919 - crf_viterbi_accuracy: 7.8538e-04 - val_loss: 2.8861 - val_crf_viterbi_accuracy: 5.2910e-04\n",
            "Epoch 5/110\n",
            "127/127 [==============================] - 0s 3ms/step - loss: 2.8827 - crf_viterbi_accuracy: 7.8952e-04 - val_loss: 2.8774 - val_crf_viterbi_accuracy: 5.2910e-04\n",
            "Epoch 6/110\n",
            "127/127 [==============================] - 0s 3ms/step - loss: 2.8743 - crf_viterbi_accuracy: 7.8952e-04 - val_loss: 2.8694 - val_crf_viterbi_accuracy: 5.2910e-04\n",
            "Epoch 7/110\n",
            "127/127 [==============================] - 0s 3ms/step - loss: 2.8663 - crf_viterbi_accuracy: 7.8538e-04 - val_loss: 2.8613 - val_crf_viterbi_accuracy: 5.2910e-04\n",
            "Epoch 8/110\n",
            "127/127 [==============================] - 0s 3ms/step - loss: 2.8581 - crf_viterbi_accuracy: 7.8538e-04 - val_loss: 2.8529 - val_crf_viterbi_accuracy: 5.2910e-04\n",
            "Epoch 9/110\n",
            "127/127 [==============================] - 0s 3ms/step - loss: 2.8496 - crf_viterbi_accuracy: 7.8125e-04 - val_loss: 2.8444 - val_crf_viterbi_accuracy: 5.2910e-04\n",
            "Epoch 10/110\n",
            "127/127 [==============================] - 0s 3ms/step - loss: 2.8410 - crf_viterbi_accuracy: 7.9365e-04 - val_loss: 2.8357 - val_crf_viterbi_accuracy: 5.2910e-04\n",
            "Epoch 11/110\n",
            "127/127 [==============================] - 0s 3ms/step - loss: 2.8322 - crf_viterbi_accuracy: 7.8952e-04 - val_loss: 2.8269 - val_crf_viterbi_accuracy: 5.2910e-04\n",
            "Epoch 12/110\n",
            "127/127 [==============================] - 0s 3ms/step - loss: 2.8233 - crf_viterbi_accuracy: 7.8538e-04 - val_loss: 2.8179 - val_crf_viterbi_accuracy: 5.2910e-04\n",
            "Epoch 13/110\n",
            "127/127 [==============================] - 0s 3ms/step - loss: 2.8142 - crf_viterbi_accuracy: 7.8538e-04 - val_loss: 2.8088 - val_crf_viterbi_accuracy: 5.2910e-04\n",
            "Epoch 14/110\n",
            "127/127 [==============================] - 0s 3ms/step - loss: 2.8050 - crf_viterbi_accuracy: 7.8538e-04 - val_loss: 2.7995 - val_crf_viterbi_accuracy: 5.2910e-04\n",
            "Epoch 15/110\n",
            "127/127 [==============================] - 0s 3ms/step - loss: 2.7956 - crf_viterbi_accuracy: 7.8952e-04 - val_loss: 2.7901 - val_crf_viterbi_accuracy: 5.2910e-04\n",
            "Epoch 16/110\n",
            "127/127 [==============================] - 0s 3ms/step - loss: 2.7861 - crf_viterbi_accuracy: 7.8952e-04 - val_loss: 2.7804 - val_crf_viterbi_accuracy: 5.2910e-04\n",
            "Epoch 17/110\n",
            "127/127 [==============================] - 0s 3ms/step - loss: 2.7764 - crf_viterbi_accuracy: 7.8538e-04 - val_loss: 2.7706 - val_crf_viterbi_accuracy: 5.2910e-04\n",
            "Epoch 18/110\n",
            "127/127 [==============================] - 0s 3ms/step - loss: 2.7665 - crf_viterbi_accuracy: 7.8538e-04 - val_loss: 2.7606 - val_crf_viterbi_accuracy: 5.2910e-04\n",
            "Epoch 19/110\n",
            "127/127 [==============================] - 0s 3ms/step - loss: 2.7564 - crf_viterbi_accuracy: 7.8538e-04 - val_loss: 2.7504 - val_crf_viterbi_accuracy: 5.2910e-04\n",
            "Epoch 20/110\n",
            "127/127 [==============================] - 0s 3ms/step - loss: 2.7460 - crf_viterbi_accuracy: 7.8538e-04 - val_loss: 2.7397 - val_crf_viterbi_accuracy: 0.0011\n",
            "Epoch 21/110\n",
            "127/127 [==============================] - 0s 3ms/step - loss: 2.7351 - crf_viterbi_accuracy: 0.0040 - val_loss: 2.7284 - val_crf_viterbi_accuracy: 0.0222\n",
            "Epoch 22/110\n",
            "127/127 [==============================] - 0s 3ms/step - loss: 2.7235 - crf_viterbi_accuracy: 0.0281 - val_loss: 2.7160 - val_crf_viterbi_accuracy: 0.0360\n",
            "Epoch 23/110\n",
            "127/127 [==============================] - 0s 3ms/step - loss: 2.7112 - crf_viterbi_accuracy: 0.0360 - val_loss: 2.7037 - val_crf_viterbi_accuracy: 0.0360\n",
            "Epoch 24/110\n",
            "127/127 [==============================] - 0s 3ms/step - loss: 2.6991 - crf_viterbi_accuracy: 0.0360 - val_loss: 2.6917 - val_crf_viterbi_accuracy: 0.0360\n",
            "Epoch 25/110\n",
            "127/127 [==============================] - 0s 3ms/step - loss: 2.6871 - crf_viterbi_accuracy: 0.0360 - val_loss: 2.6798 - val_crf_viterbi_accuracy: 0.0360\n",
            "Epoch 26/110\n",
            "127/127 [==============================] - 0s 3ms/step - loss: 2.6751 - crf_viterbi_accuracy: 0.0360 - val_loss: 2.6678 - val_crf_viterbi_accuracy: 0.0344\n",
            "Epoch 27/110\n",
            "127/127 [==============================] - 0s 3ms/step - loss: 2.6632 - crf_viterbi_accuracy: 0.1547 - val_loss: 2.6560 - val_crf_viterbi_accuracy: 0.2963\n",
            "Epoch 28/110\n",
            "127/127 [==============================] - 0s 3ms/step - loss: 2.6514 - crf_viterbi_accuracy: 0.2963 - val_loss: 2.6443 - val_crf_viterbi_accuracy: 0.2963\n",
            "Epoch 29/110\n",
            "127/127 [==============================] - 0s 3ms/step - loss: 2.6396 - crf_viterbi_accuracy: 0.2963 - val_loss: 2.6326 - val_crf_viterbi_accuracy: 0.2963\n",
            "Epoch 30/110\n",
            "127/127 [==============================] - 0s 3ms/step - loss: 2.6279 - crf_viterbi_accuracy: 0.2963 - val_loss: 2.6209 - val_crf_viterbi_accuracy: 0.2963\n",
            "Epoch 31/110\n",
            "127/127 [==============================] - 0s 3ms/step - loss: 2.6161 - crf_viterbi_accuracy: 0.2963 - val_loss: 2.6092 - val_crf_viterbi_accuracy: 0.2963\n",
            "Epoch 32/110\n",
            "127/127 [==============================] - 0s 3ms/step - loss: 2.6045 - crf_viterbi_accuracy: 0.2963 - val_loss: 2.5975 - val_crf_viterbi_accuracy: 0.2963\n",
            "Epoch 33/110\n",
            "127/127 [==============================] - 0s 3ms/step - loss: 2.5927 - crf_viterbi_accuracy: 0.2963 - val_loss: 2.5859 - val_crf_viterbi_accuracy: 0.2963\n",
            "Epoch 34/110\n",
            "127/127 [==============================] - 0s 3ms/step - loss: 2.5810 - crf_viterbi_accuracy: 0.2963 - val_loss: 2.5742 - val_crf_viterbi_accuracy: 0.2963\n",
            "Epoch 35/110\n",
            "127/127 [==============================] - 0s 3ms/step - loss: 2.5694 - crf_viterbi_accuracy: 0.2963 - val_loss: 2.5626 - val_crf_viterbi_accuracy: 0.2963\n",
            "Epoch 36/110\n",
            "127/127 [==============================] - 0s 3ms/step - loss: 2.5578 - crf_viterbi_accuracy: 0.2963 - val_loss: 2.5510 - val_crf_viterbi_accuracy: 0.2963\n",
            "Epoch 37/110\n",
            "127/127 [==============================] - 0s 3ms/step - loss: 2.5461 - crf_viterbi_accuracy: 0.2963 - val_loss: 2.5394 - val_crf_viterbi_accuracy: 0.2963\n",
            "Epoch 38/110\n",
            "127/127 [==============================] - 0s 3ms/step - loss: 2.5345 - crf_viterbi_accuracy: 0.2964 - val_loss: 2.5279 - val_crf_viterbi_accuracy: 0.2963\n",
            "Epoch 39/110\n",
            "127/127 [==============================] - 0s 3ms/step - loss: 2.5229 - crf_viterbi_accuracy: 0.2963 - val_loss: 2.5163 - val_crf_viterbi_accuracy: 0.2963\n",
            "Epoch 40/110\n",
            "127/127 [==============================] - 0s 3ms/step - loss: 2.5113 - crf_viterbi_accuracy: 0.2963 - val_loss: 2.5048 - val_crf_viterbi_accuracy: 0.2963\n",
            "Epoch 41/110\n",
            "127/127 [==============================] - 0s 3ms/step - loss: 2.4997 - crf_viterbi_accuracy: 0.3130 - val_loss: 2.4933 - val_crf_viterbi_accuracy: 0.3296\n",
            "Epoch 42/110\n",
            "127/127 [==============================] - 0s 3ms/step - loss: 2.4882 - crf_viterbi_accuracy: 0.3297 - val_loss: 2.4818 - val_crf_viterbi_accuracy: 0.3296\n",
            "Epoch 43/110\n",
            "127/127 [==============================] - 0s 3ms/step - loss: 2.4767 - crf_viterbi_accuracy: 0.3297 - val_loss: 2.4703 - val_crf_viterbi_accuracy: 0.3296\n",
            "Epoch 44/110\n",
            "127/127 [==============================] - 0s 3ms/step - loss: 2.4652 - crf_viterbi_accuracy: 0.3297 - val_loss: 2.4588 - val_crf_viterbi_accuracy: 0.3296\n",
            "Epoch 45/110\n",
            "127/127 [==============================] - 0s 3ms/step - loss: 2.4537 - crf_viterbi_accuracy: 0.3297 - val_loss: 2.4474 - val_crf_viterbi_accuracy: 0.3296\n",
            "Epoch 46/110\n",
            "127/127 [==============================] - 0s 3ms/step - loss: 2.4422 - crf_viterbi_accuracy: 0.3296 - val_loss: 2.4359 - val_crf_viterbi_accuracy: 0.3296\n",
            "Epoch 47/110\n",
            "127/127 [==============================] - 0s 3ms/step - loss: 2.4307 - crf_viterbi_accuracy: 0.3297 - val_loss: 2.4245 - val_crf_viterbi_accuracy: 0.3296\n",
            "Epoch 48/110\n"
          ],
          "name": "stdout"
        },
        {
          "output_type": "stream",
          "text": [
            "127/127 [==============================] - 0s 3ms/step - loss: 2.4193 - crf_viterbi_accuracy: 0.3297 - val_loss: 2.4131 - val_crf_viterbi_accuracy: 0.3296\n",
            "Epoch 49/110\n",
            "127/127 [==============================] - 0s 3ms/step - loss: 2.4079 - crf_viterbi_accuracy: 0.3296 - val_loss: 2.4017 - val_crf_viterbi_accuracy: 0.3296\n",
            "Epoch 50/110\n",
            "127/127 [==============================] - 0s 3ms/step - loss: 2.3964 - crf_viterbi_accuracy: 0.3296 - val_loss: 2.3903 - val_crf_viterbi_accuracy: 0.3296\n",
            "Epoch 51/110\n",
            "127/127 [==============================] - 0s 3ms/step - loss: 2.3850 - crf_viterbi_accuracy: 0.3297 - val_loss: 2.3790 - val_crf_viterbi_accuracy: 0.3296\n",
            "Epoch 52/110\n",
            "127/127 [==============================] - 0s 3ms/step - loss: 2.3736 - crf_viterbi_accuracy: 0.3297 - val_loss: 2.3676 - val_crf_viterbi_accuracy: 0.3296\n",
            "Epoch 53/110\n",
            "127/127 [==============================] - 0s 3ms/step - loss: 2.3622 - crf_viterbi_accuracy: 0.3297 - val_loss: 2.3563 - val_crf_viterbi_accuracy: 0.3296\n",
            "Epoch 54/110\n",
            "127/127 [==============================] - 0s 3ms/step - loss: 2.3509 - crf_viterbi_accuracy: 0.3297 - val_loss: 2.3450 - val_crf_viterbi_accuracy: 0.3296\n",
            "Epoch 55/110\n",
            "127/127 [==============================] - 0s 3ms/step - loss: 2.3395 - crf_viterbi_accuracy: 0.3297 - val_loss: 2.3337 - val_crf_viterbi_accuracy: 0.3503\n",
            "Epoch 56/110\n",
            "127/127 [==============================] - 0s 3ms/step - loss: 2.3283 - crf_viterbi_accuracy: 0.3572 - val_loss: 2.3224 - val_crf_viterbi_accuracy: 0.3503\n",
            "Epoch 57/110\n",
            "127/127 [==============================] - 0s 3ms/step - loss: 2.3169 - crf_viterbi_accuracy: 0.3734 - val_loss: 2.3111 - val_crf_viterbi_accuracy: 0.3836\n",
            "Epoch 58/110\n",
            "127/127 [==============================] - 0s 3ms/step - loss: 2.3056 - crf_viterbi_accuracy: 0.3911 - val_loss: 2.2998 - val_crf_viterbi_accuracy: 0.3836\n",
            "Epoch 59/110\n",
            "127/127 [==============================] - 0s 3ms/step - loss: 2.2943 - crf_viterbi_accuracy: 0.3898 - val_loss: 2.2885 - val_crf_viterbi_accuracy: 0.3836\n",
            "Epoch 60/110\n",
            "127/127 [==============================] - 0s 3ms/step - loss: 2.2830 - crf_viterbi_accuracy: 0.3900 - val_loss: 2.2773 - val_crf_viterbi_accuracy: 0.3836\n",
            "Epoch 61/110\n",
            "127/127 [==============================] - 0s 3ms/step - loss: 2.2717 - crf_viterbi_accuracy: 0.3895 - val_loss: 2.2661 - val_crf_viterbi_accuracy: 0.3836\n",
            "Epoch 62/110\n",
            "127/127 [==============================] - 0s 3ms/step - loss: 2.2605 - crf_viterbi_accuracy: 0.3900 - val_loss: 2.2548 - val_crf_viterbi_accuracy: 0.3836\n",
            "Epoch 63/110\n",
            "127/127 [==============================] - 0s 3ms/step - loss: 2.2492 - crf_viterbi_accuracy: 0.3885 - val_loss: 2.2436 - val_crf_viterbi_accuracy: 0.3836\n",
            "Epoch 64/110\n",
            "127/127 [==============================] - 0s 3ms/step - loss: 2.2380 - crf_viterbi_accuracy: 0.3892 - val_loss: 2.2324 - val_crf_viterbi_accuracy: 0.3836\n",
            "Epoch 65/110\n",
            "127/127 [==============================] - 0s 3ms/step - loss: 2.2268 - crf_viterbi_accuracy: 0.6768 - val_loss: 2.2213 - val_crf_viterbi_accuracy: 0.9651\n",
            "Epoch 66/110\n",
            "127/127 [==============================] - 0s 3ms/step - loss: 2.2156 - crf_viterbi_accuracy: 0.9679 - val_loss: 2.2101 - val_crf_viterbi_accuracy: 0.9651\n",
            "Epoch 67/110\n",
            "127/127 [==============================] - 0s 3ms/step - loss: 2.2043 - crf_viterbi_accuracy: 0.9680 - val_loss: 2.1989 - val_crf_viterbi_accuracy: 0.9651\n",
            "Epoch 68/110\n",
            "127/127 [==============================] - 0s 3ms/step - loss: 2.1932 - crf_viterbi_accuracy: 0.9680 - val_loss: 2.1878 - val_crf_viterbi_accuracy: 0.9651\n",
            "Epoch 69/110\n",
            "127/127 [==============================] - 0s 3ms/step - loss: 2.1820 - crf_viterbi_accuracy: 0.9681 - val_loss: 2.1766 - val_crf_viterbi_accuracy: 0.9651\n",
            "Epoch 70/110\n",
            "127/127 [==============================] - 0s 3ms/step - loss: 2.1708 - crf_viterbi_accuracy: 0.9680 - val_loss: 2.1655 - val_crf_viterbi_accuracy: 0.9651\n",
            "Epoch 71/110\n",
            "127/127 [==============================] - 0s 3ms/step - loss: 2.1597 - crf_viterbi_accuracy: 0.9679 - val_loss: 2.1544 - val_crf_viterbi_accuracy: 0.9651\n",
            "Epoch 72/110\n",
            "127/127 [==============================] - 0s 3ms/step - loss: 2.1486 - crf_viterbi_accuracy: 0.9680 - val_loss: 2.1433 - val_crf_viterbi_accuracy: 0.9651\n",
            "Epoch 73/110\n",
            "127/127 [==============================] - 0s 3ms/step - loss: 2.1374 - crf_viterbi_accuracy: 0.9680 - val_loss: 2.1322 - val_crf_viterbi_accuracy: 0.9651\n",
            "Epoch 74/110\n",
            "127/127 [==============================] - 0s 3ms/step - loss: 2.1263 - crf_viterbi_accuracy: 0.9680 - val_loss: 2.1211 - val_crf_viterbi_accuracy: 0.9651\n",
            "Epoch 75/110\n",
            "127/127 [==============================] - 0s 3ms/step - loss: 2.1152 - crf_viterbi_accuracy: 0.9680 - val_loss: 2.1101 - val_crf_viterbi_accuracy: 0.9651\n",
            "Epoch 76/110\n",
            "127/127 [==============================] - 0s 3ms/step - loss: 2.1041 - crf_viterbi_accuracy: 0.9681 - val_loss: 2.0991 - val_crf_viterbi_accuracy: 0.9651\n",
            "Epoch 77/110\n",
            "127/127 [==============================] - 0s 3ms/step - loss: 2.0931 - crf_viterbi_accuracy: 0.9680 - val_loss: 2.0880 - val_crf_viterbi_accuracy: 0.9651\n",
            "Epoch 78/110\n",
            "127/127 [==============================] - 0s 3ms/step - loss: 2.0821 - crf_viterbi_accuracy: 0.9679 - val_loss: 2.0770 - val_crf_viterbi_accuracy: 0.9651\n",
            "Epoch 79/110\n",
            "127/127 [==============================] - 0s 3ms/step - loss: 2.0710 - crf_viterbi_accuracy: 0.9680 - val_loss: 2.0660 - val_crf_viterbi_accuracy: 0.9651\n",
            "Epoch 80/110\n",
            "127/127 [==============================] - 0s 3ms/step - loss: 2.0600 - crf_viterbi_accuracy: 0.9680 - val_loss: 2.0550 - val_crf_viterbi_accuracy: 0.9651\n",
            "Epoch 81/110\n",
            "127/127 [==============================] - 0s 3ms/step - loss: 2.0490 - crf_viterbi_accuracy: 0.9680 - val_loss: 2.0440 - val_crf_viterbi_accuracy: 0.9651\n",
            "Epoch 82/110\n",
            "127/127 [==============================] - 0s 3ms/step - loss: 2.0380 - crf_viterbi_accuracy: 0.9680 - val_loss: 2.0331 - val_crf_viterbi_accuracy: 0.9651\n",
            "Epoch 83/110\n",
            "127/127 [==============================] - 0s 3ms/step - loss: 2.0270 - crf_viterbi_accuracy: 0.9680 - val_loss: 2.0221 - val_crf_viterbi_accuracy: 0.9651\n",
            "Epoch 84/110\n",
            "127/127 [==============================] - 0s 3ms/step - loss: 2.0160 - crf_viterbi_accuracy: 0.9680 - val_loss: 2.0112 - val_crf_viterbi_accuracy: 0.9651\n",
            "Epoch 85/110\n",
            "127/127 [==============================] - 0s 3ms/step - loss: 2.0051 - crf_viterbi_accuracy: 0.9680 - val_loss: 2.0003 - val_crf_viterbi_accuracy: 0.9651\n",
            "Epoch 86/110\n",
            "127/127 [==============================] - 0s 3ms/step - loss: 1.9942 - crf_viterbi_accuracy: 0.9679 - val_loss: 1.9894 - val_crf_viterbi_accuracy: 0.9651\n",
            "Epoch 87/110\n",
            "127/127 [==============================] - 0s 3ms/step - loss: 1.9832 - crf_viterbi_accuracy: 0.9679 - val_loss: 1.9785 - val_crf_viterbi_accuracy: 0.9651\n",
            "Epoch 88/110\n",
            "127/127 [==============================] - 0s 3ms/step - loss: 1.9724 - crf_viterbi_accuracy: 0.9679 - val_loss: 1.9676 - val_crf_viterbi_accuracy: 0.9651\n",
            "Epoch 89/110\n",
            "127/127 [==============================] - 0s 3ms/step - loss: 1.9615 - crf_viterbi_accuracy: 0.9679 - val_loss: 1.9568 - val_crf_viterbi_accuracy: 0.9651\n",
            "Epoch 90/110\n",
            "127/127 [==============================] - 0s 3ms/step - loss: 1.9506 - crf_viterbi_accuracy: 0.9679 - val_loss: 1.9459 - val_crf_viterbi_accuracy: 0.9651\n",
            "Epoch 91/110\n",
            "127/127 [==============================] - 0s 3ms/step - loss: 1.9397 - crf_viterbi_accuracy: 0.9680 - val_loss: 1.9351 - val_crf_viterbi_accuracy: 0.9651\n",
            "Epoch 92/110\n",
            "127/127 [==============================] - 0s 3ms/step - loss: 1.9288 - crf_viterbi_accuracy: 0.9680 - val_loss: 1.9243 - val_crf_viterbi_accuracy: 0.9651\n",
            "Epoch 93/110\n",
            "127/127 [==============================] - 0s 3ms/step - loss: 1.9180 - crf_viterbi_accuracy: 0.9680 - val_loss: 1.9135 - val_crf_viterbi_accuracy: 0.9651\n",
            "Epoch 94/110\n",
            "127/127 [==============================] - 0s 3ms/step - loss: 1.9072 - crf_viterbi_accuracy: 0.9680 - val_loss: 1.9027 - val_crf_viterbi_accuracy: 0.9651\n",
            "Epoch 95/110\n",
            "127/127 [==============================] - 0s 3ms/step - loss: 1.8964 - crf_viterbi_accuracy: 0.9680 - val_loss: 1.8920 - val_crf_viterbi_accuracy: 0.9651\n",
            "Epoch 96/110\n",
            "127/127 [==============================] - 0s 3ms/step - loss: 1.8856 - crf_viterbi_accuracy: 0.9680 - val_loss: 1.8812 - val_crf_viterbi_accuracy: 0.9651\n"
          ],
          "name": "stdout"
        },
        {
          "output_type": "stream",
          "text": [
            "Epoch 97/110\n",
            "127/127 [==============================] - 0s 3ms/step - loss: 1.8749 - crf_viterbi_accuracy: 0.9680 - val_loss: 1.8705 - val_crf_viterbi_accuracy: 0.9651\n",
            "Epoch 98/110\n",
            "127/127 [==============================] - 0s 3ms/step - loss: 1.8641 - crf_viterbi_accuracy: 0.9680 - val_loss: 1.8597 - val_crf_viterbi_accuracy: 0.9651\n",
            "Epoch 99/110\n",
            "127/127 [==============================] - 0s 3ms/step - loss: 1.8533 - crf_viterbi_accuracy: 0.9680 - val_loss: 1.8490 - val_crf_viterbi_accuracy: 0.9651\n",
            "Epoch 100/110\n",
            "127/127 [==============================] - 0s 3ms/step - loss: 1.8426 - crf_viterbi_accuracy: 0.9680 - val_loss: 1.8383 - val_crf_viterbi_accuracy: 0.9651\n",
            "Epoch 101/110\n",
            "127/127 [==============================] - 0s 3ms/step - loss: 1.8320 - crf_viterbi_accuracy: 0.9679 - val_loss: 1.8277 - val_crf_viterbi_accuracy: 0.9651\n",
            "Epoch 102/110\n",
            "127/127 [==============================] - 0s 3ms/step - loss: 1.8212 - crf_viterbi_accuracy: 0.9680 - val_loss: 1.8170 - val_crf_viterbi_accuracy: 0.9651\n",
            "Epoch 103/110\n",
            "127/127 [==============================] - 0s 3ms/step - loss: 1.8105 - crf_viterbi_accuracy: 0.9680 - val_loss: 1.8064 - val_crf_viterbi_accuracy: 0.9651\n",
            "Epoch 104/110\n",
            "127/127 [==============================] - 0s 3ms/step - loss: 1.7999 - crf_viterbi_accuracy: 0.9679 - val_loss: 1.7957 - val_crf_viterbi_accuracy: 0.9651\n",
            "Epoch 105/110\n",
            "127/127 [==============================] - 0s 3ms/step - loss: 1.7892 - crf_viterbi_accuracy: 0.9680 - val_loss: 1.7852 - val_crf_viterbi_accuracy: 0.9651\n",
            "Epoch 106/110\n",
            "127/127 [==============================] - 0s 3ms/step - loss: 1.7787 - crf_viterbi_accuracy: 0.9680 - val_loss: 1.7746 - val_crf_viterbi_accuracy: 0.9651\n",
            "Epoch 107/110\n",
            "127/127 [==============================] - 0s 3ms/step - loss: 1.7681 - crf_viterbi_accuracy: 0.9680 - val_loss: 1.7640 - val_crf_viterbi_accuracy: 0.9651\n",
            "Epoch 108/110\n",
            "127/127 [==============================] - 0s 3ms/step - loss: 1.7575 - crf_viterbi_accuracy: 0.9680 - val_loss: 1.7535 - val_crf_viterbi_accuracy: 0.9651\n",
            "Epoch 109/110\n",
            "127/127 [==============================] - 0s 3ms/step - loss: 1.7470 - crf_viterbi_accuracy: 0.9679 - val_loss: 1.7430 - val_crf_viterbi_accuracy: 0.9651\n",
            "Epoch 110/110\n",
            "127/127 [==============================] - 0s 3ms/step - loss: 1.7364 - crf_viterbi_accuracy: 0.9680 - val_loss: 1.7325 - val_crf_viterbi_accuracy: 0.9651\n"
          ],
          "name": "stdout"
        },
        {
          "output_type": "execute_result",
          "data": {
            "text/plain": [
              "<keras.callbacks.callbacks.History at 0x23cd289d4c8>"
            ]
          },
          "metadata": {
            "tags": []
          },
          "execution_count": 36
        }
      ]
    },
    {
      "cell_type": "code",
      "metadata": {
        "id": "g7Prbh9j5SHY",
        "colab_type": "code",
        "colab": {},
        "outputId": "225654e7-6677-4e97-887b-49c2956f540e"
      },
      "source": [
        "y_pred=model.predict(X_test)\n",
        "print(y_test)"
      ],
      "execution_count": null,
      "outputs": [
        {
          "output_type": "stream",
          "text": [
            "[[[1. 0. 0. ... 0. 0. 0.]\n",
            "  [1. 0. 0. ... 0. 0. 0.]\n",
            "  [1. 0. 0. ... 0. 0. 0.]\n",
            "  ...\n",
            "  [1. 0. 0. ... 0. 0. 0.]\n",
            "  [1. 0. 0. ... 0. 0. 0.]\n",
            "  [1. 0. 0. ... 0. 0. 0.]]\n",
            "\n",
            " [[1. 0. 0. ... 0. 0. 0.]\n",
            "  [1. 0. 0. ... 0. 0. 0.]\n",
            "  [1. 0. 0. ... 0. 0. 0.]\n",
            "  ...\n",
            "  [1. 0. 0. ... 0. 0. 0.]\n",
            "  [1. 0. 0. ... 0. 0. 0.]\n",
            "  [1. 0. 0. ... 0. 0. 0.]]\n",
            "\n",
            " [[0. 1. 0. ... 0. 0. 0.]\n",
            "  [0. 0. 1. ... 0. 0. 0.]\n",
            "  [1. 0. 0. ... 0. 0. 0.]\n",
            "  ...\n",
            "  [1. 0. 0. ... 0. 0. 0.]\n",
            "  [1. 0. 0. ... 0. 0. 0.]\n",
            "  [1. 0. 0. ... 0. 0. 0.]]\n",
            "\n",
            " ...\n",
            "\n",
            " [[1. 0. 0. ... 0. 0. 0.]\n",
            "  [1. 0. 0. ... 0. 0. 0.]\n",
            "  [1. 0. 0. ... 0. 0. 0.]\n",
            "  ...\n",
            "  [1. 0. 0. ... 0. 0. 0.]\n",
            "  [1. 0. 0. ... 0. 0. 0.]\n",
            "  [1. 0. 0. ... 0. 0. 0.]]\n",
            "\n",
            " [[1. 0. 0. ... 0. 0. 0.]\n",
            "  [1. 0. 0. ... 0. 0. 0.]\n",
            "  [1. 0. 0. ... 0. 0. 0.]\n",
            "  ...\n",
            "  [1. 0. 0. ... 0. 0. 0.]\n",
            "  [1. 0. 0. ... 0. 0. 0.]\n",
            "  [1. 0. 0. ... 0. 0. 0.]]\n",
            "\n",
            " [[1. 0. 0. ... 0. 0. 0.]\n",
            "  [1. 0. 0. ... 0. 0. 0.]\n",
            "  [1. 0. 0. ... 0. 0. 0.]\n",
            "  ...\n",
            "  [1. 0. 0. ... 0. 0. 0.]\n",
            "  [1. 0. 0. ... 0. 0. 0.]\n",
            "  [1. 0. 0. ... 0. 0. 0.]]]\n"
          ],
          "name": "stdout"
        }
      ]
    },
    {
      "cell_type": "code",
      "metadata": {
        "id": "4Ozzasq65SHb",
        "colab_type": "code",
        "colab": {},
        "outputId": "21a8aacd-0987-494f-f32f-d6b5cb3bdbc4"
      },
      "source": [
        "y_pred1 = np.argmax(y_pred, axis=-1)\n",
        "print(y_pred1[9])\n",
        "y_test1=np.argmax(y_test,axis=-1)"
      ],
      "execution_count": null,
      "outputs": [
        {
          "output_type": "stream",
          "text": [
            "[0 0 0 0 0 0 0 0 0 0 0 0 0 0 0 0 0 0 0 0 0 0 0 0 0 0 0 0 0 0]\n"
          ],
          "name": "stdout"
        }
      ]
    },
    {
      "cell_type": "code",
      "metadata": {
        "id": "Q-2kl3225SHd",
        "colab_type": "code",
        "colab": {},
        "outputId": "dc0921f4-b9d5-4fff-bc6a-a0c9838e7272"
      },
      "source": [
        "for i in range(len(X_test)):\n",
        "    print(\"test case \",i)\n",
        "    print(y_test1[i])\n",
        "    print(y_pred1[i])"
      ],
      "execution_count": null,
      "outputs": [
        {
          "output_type": "stream",
          "text": [
            "test case  0\n",
            "[0 0 0 0 0 0 0 0 0 0 0 0 0 0 0 0 0 0 0 0 0 0 0 0 0 0 0 0 0 0]\n",
            "[0 0 0 0 0 0 0 0 0 0 0 0 0 0 0 0 0 0 0 0 0 0 0 0 0 0 0 0 0 0]\n",
            "test case  1\n",
            "[0 0 0 0 0 0 0 0 0 0 0 0 0 0 0 0 0 0 0 0 0 0 0 0 0 0 0 0 0 0]\n",
            "[0 0 0 0 0 0 0 0 0 0 0 0 0 0 0 0 0 0 0 0 0 0 0 0 0 0 0 0 0 0]\n",
            "test case  2\n",
            "[1 2 0 0 0 0 0 0 0 0 1 0 0 1 0 1 0 0 0 0 0 0 0 0 0 0 0 0 0 0]\n",
            "[0 0 0 0 0 0 0 0 0 0 0 0 0 0 0 0 0 0 0 0 0 0 0 0 0 0 0 0 0 0]\n",
            "test case  3\n",
            "[0 0 0 0 0 0 0 0 0 0 0 0 0 0 0 0 0 0 0 0 0 0 0 0 0 0 0 0 0 0]\n",
            "[0 0 0 0 0 0 0 0 0 0 0 0 0 0 0 0 0 0 0 0 0 0 0 0 0 0 0 0 0 0]\n",
            "test case  4\n",
            "[0 0 0 0 0 0 0 0 0 0 0 0 0 0 0 0 0 0 0 0 0 0 0 0 0 0 0 0 0 0]\n",
            "[0 0 0 0 0 0 0 0 0 0 0 0 0 0 0 0 0 0 0 0 0 0 0 0 0 0 0 0 0 0]\n",
            "test case  5\n",
            "[0 0 0 0 0 0 0 0 0 0 0 0 0 0 0 0 0 0 0 0 0 0 0 0 0 0 0 0 0 0]\n",
            "[0 0 0 0 0 0 0 0 0 0 0 0 0 0 0 0 0 0 0 0 0 0 0 0 0 0 0 0 0 0]\n",
            "test case  6\n",
            "[0 0 0 0 0 0 0 0 0 0 0 0 0 0 0 0 0 0 0 0 0 0 0 0 0 0 0 0 0 0]\n",
            "[0 0 0 0 0 0 0 0 0 0 0 0 0 0 0 0 0 0 0 0 0 0 0 0 0 0 0 0 0 0]\n",
            "test case  7\n",
            "[0 3 0 2 0 0 0 0 0 0 0 0 0 0 0 0 0 0 0 0 0 0 0 0 0 0 0 0 0 0]\n",
            "[0 0 0 0 0 0 0 0 0 0 0 0 0 0 0 0 0 0 0 0 0 0 0 0 0 0 0 0 0 0]\n",
            "test case  8\n",
            "[0 0 0 0 0 0 0 0 0 0 0 0 0 0 0 0 0 0 0 0 0 0 0 0 0 0 0 0 0 0]\n",
            "[0 0 0 0 0 0 0 0 0 0 0 0 0 0 0 0 0 0 0 0 0 0 0 0 0 0 0 0 0 0]\n",
            "test case  9\n",
            "[0 0 0 0 0 0 0 0 0 0 0 0 0 0 0 0 0 0 0 0 0 0 0 0 0 0 0 0 0 0]\n",
            "[0 0 0 0 0 0 0 0 0 0 0 0 0 0 0 0 0 0 0 0 0 0 0 0 0 0 0 0 0 0]\n",
            "test case  10\n",
            "[0 0 0 1 3 0 0 0 4 5 0 0 0 2 0 0 0 0 0 0 0 0 0 0 0 0 0 0 0 0]\n",
            "[0 0 0 0 0 0 0 0 0 0 0 0 0 0 0 0 0 0 0 0 0 0 0 0 0 0 0 0 0 0]\n",
            "test case  11\n",
            "[1 0 0 1 4 5 2 0 0 0 0 0 0 0 0 0 0 0 0 0 0 0 0 0 0 0 0 0 0 0]\n",
            "[0 0 0 0 0 0 0 0 0 0 0 0 0 0 0 0 0 0 0 0 0 0 0 0 0 0 0 0 0 0]\n",
            "test case  12\n",
            "[1 2 4 5 0 0 0 1 2 0 1 0 0 0 0 0 0 0 0 0 0 0 0 0 0 0 0 0 0 0]\n",
            "[0 0 0 0 0 0 0 0 0 0 0 0 0 0 0 0 0 0 0 0 0 0 0 0 0 0 0 0 0 0]\n",
            "test case  13\n",
            "[0 0 0 0 0 0 0 0 0 0 0 0 0 0 0 0 0 0 0 0 0 0 0 0 0 0 0 0 0 0]\n",
            "[0 0 0 0 0 0 0 0 0 0 0 0 0 0 0 0 0 0 0 0 0 0 0 0 0 0 0 0 0 0]\n",
            "test case  14\n",
            "[0 0 0 0 0 0 0 0 0 0 0 0 0 0 0 0 0 0 0 0 0 0 0 0 0 0 0 0 0 0]\n",
            "[0 0 0 0 0 0 0 0 0 0 0 0 0 0 0 0 0 0 0 0 0 0 0 0 0 0 0 0 0 0]\n",
            "test case  15\n",
            "[0 0 0 0 0 0 0 0 0 0 0 0 0 0 0 0 0 0 0 0 0 0 0 0 0 0 0 0 0 0]\n",
            "[0 0 0 0 0 0 0 0 0 0 0 0 0 0 0 0 0 0 0 0 0 0 0 0 0 0 0 0 0 0]\n",
            "test case  16\n",
            "[0 0 0 0 0 0 0 0 0 0 0 0 0 0 0 0 0 0 0 0 0 0 0 0 0 0 0 0 0 0]\n",
            "[0 0 0 0 0 0 0 0 0 0 0 0 0 0 0 0 0 0 0 0 0 0 0 0 0 0 0 0 0 0]\n",
            "test case  17\n",
            "[0 0 0 0 0 0 0 0 0 0 0 0 0 0 0 0 0 0 0 0 0 0 0 0 0 0 0 0 0 0]\n",
            "[0 0 0 0 0 0 0 0 0 0 0 0 0 0 0 0 0 0 0 0 0 0 0 0 0 0 0 0 0 0]\n",
            "test case  18\n",
            "[0 0 0 0 0 0 0 0 0 0 0 0 0 0 0 0 0 0 0 0 0 0 0 0 0 0 0 0 0 0]\n",
            "[0 0 0 0 0 0 0 0 0 0 0 0 0 0 0 0 0 0 0 0 0 0 0 0 0 0 0 0 0 0]\n",
            "test case  19\n",
            "[0 1 2 0 0 0 0 0 0 0 0 0 0 0 0 0 0 0 0 0 0 0 0 0 0 0 0 0 0 0]\n",
            "[0 0 0 0 0 0 0 0 0 0 0 0 0 0 0 0 0 0 0 0 0 0 0 0 0 0 0 0 0 0]\n",
            "test case  20\n",
            "[0 0 0 0 0 0 0 0 0 0 0 0 0 0 0 0 0 0 0 0 0 0 0 0 0 0 0 0 0 0]\n",
            "[0 0 0 0 0 0 0 0 0 0 0 0 0 0 0 0 0 0 0 0 0 0 0 0 0 0 0 0 0 0]\n",
            "test case  21\n",
            "[0 0 0 0 0 0 0 0 0 0 0 0 0 0 0 0 0 0 0 0 0 0 0 0 0 0 0 0 0 0]\n",
            "[0 0 0 0 0 0 0 0 0 0 0 0 0 0 0 0 0 0 0 0 0 0 0 0 0 0 0 0 0 0]\n",
            "test case  22\n",
            "[0 0 0 0 0 0 0 0 0 0 0 0 0 0 0 0 0 0 0 0 0 0 0 0 0 0 0 0 0 0]\n",
            "[0 0 0 0 0 0 0 0 0 0 0 0 0 0 0 0 0 0 0 0 0 0 0 0 0 0 0 0 0 0]\n",
            "test case  23\n",
            "[6 8 2 0 0 0 0 0 0 0 0 0 0 0 0 0 0 0 0 0 0 0 0 0 0 0 0 0 0 0]\n",
            "[0 0 0 0 0 0 0 0 0 0 0 0 0 0 0 0 0 0 0 0 0 0 0 0 0 0 0 0 0 0]\n",
            "test case  24\n",
            "[0 0 0 0 0 0 0 0 0 0 0 0 0 0 0 0 0 0 0 0 0 0 0 0 0 0 0 0 0 0]\n",
            "[0 0 0 0 0 0 0 0 0 0 0 0 0 0 0 0 0 0 0 0 0 0 0 0 0 0 0 0 0 0]\n",
            "test case  25\n",
            "[0 0 0 0 0 0 0 0 0 0 0 0 0 0 0 0 0 0 0 0 0 0 0 0 0 0 0 0 0 0]\n",
            "[0 0 0 0 0 0 0 0 0 0 0 0 0 0 0 0 0 0 0 0 0 0 0 0 0 0 0 0 0 0]\n",
            "test case  26\n",
            "[0 0 0 0 0 0 0 0 0 0 0 0 0 0 0 0 0 0 0 0 0 0 0 0 0 0 0 0 0 0]\n",
            "[0 0 0 0 0 0 0 0 0 0 0 0 0 0 0 0 0 0 0 0 0 0 0 0 0 0 0 0 0 0]\n",
            "test case  27\n",
            "[ 0  0  0  0  0  0  4 11  5  0  1  2  0  0  0  4  5  2  4  5  0  0  0  0\n",
            "  0  0  0  0  0  0]\n",
            "[0 0 0 0 0 0 0 0 0 0 0 0 0 0 0 0 0 0 0 0 0 0 0 0 0 0 0 0 0 0]\n",
            "test case  28\n",
            "[1 0 0 0 0 0 2 1 0 0 4 5 0 0 0 0 0 0 0 0 0 0 0 0 0 0 0 0 0 0]\n",
            "[0 0 0 0 0 0 0 0 0 0 0 0 0 0 0 0 0 0 0 0 0 0 0 0 0 0 0 0 0 0]\n",
            "test case  29\n",
            "[0 0 0 0 0 0 0 0 0 0 0 0 0 0 0 0 0 0 0 0 0 0 0 0 0 0 0 0 0 0]\n",
            "[0 0 0 0 0 0 0 0 0 0 0 0 0 0 0 0 0 0 0 0 0 0 0 0 0 0 0 0 0 0]\n",
            "test case  30\n",
            "[0 0 0 0 0 0 0 0 0 0 0 0 0 0 0 0 0 0 0 0 0 0 0 0 0 0 0 0 0 0]\n",
            "[0 0 0 0 0 0 0 0 0 0 0 0 0 0 0 0 0 0 0 0 0 0 0 0 0 0 0 0 0 0]\n",
            "test case  31\n",
            "[0 0 0 0 0 0 0 0 0 0 0 0 0 0 0 0 0 0 0 0 0 0 0 0 0 0 0 0 0 0]\n",
            "[0 0 0 0 0 0 0 0 0 0 0 0 0 0 0 0 0 0 0 0 0 0 0 0 0 0 0 0 0 0]\n",
            "test case  32\n",
            "[0 0 0 0 0 0 0 0 0 0 0 0 0 0 0 0 0 0 0 0 0 0 0 0 0 0 0 0 0 0]\n",
            "[0 0 0 0 0 0 0 0 0 0 0 0 0 0 0 0 0 0 0 0 0 0 0 0 0 0 0 0 0 0]\n",
            "test case  33\n",
            "[1 2 1 0 0 0 0 0 0 0 0 0 0 0 0 0 0 0 0 0 0 0 0 0 0 0 0 0 0 0]\n",
            "[0 0 0 0 0 0 0 0 0 0 0 0 0 0 0 0 0 0 0 0 0 0 0 0 0 0 0 0 0 0]\n",
            "test case  34\n",
            "[0 0 0 0 0 0 0 0 0 0 0 0 0 0 0 0 0 0 0 0 0 0 0 0 0 0 0 0 0 0]\n",
            "[0 0 0 0 0 0 0 0 0 0 0 0 0 0 0 0 0 0 0 0 0 0 0 0 0 0 0 0 0 0]\n",
            "test case  35\n",
            "[0 0 0 0 0 0 0 0 0 0 0 0 0 0 0 0 0 0 0 0 0 0 0 0 0 0 0 0 0 0]\n",
            "[0 0 0 0 0 0 0 0 0 0 0 0 0 0 0 0 0 0 0 0 0 0 0 0 0 0 0 0 0 0]\n",
            "test case  36\n",
            "[1 2 1 0 0 0 0 0 0 0 0 0 0 0 0 0 0 0 0 0 0 0 0 0 0 0 0 0 0 0]\n",
            "[0 0 0 0 0 0 0 0 0 0 0 0 0 0 0 0 0 0 0 0 0 0 0 0 0 0 0 0 0 0]\n",
            "test case  37\n",
            "[0 0 0 0 0 0 0 0 0 0 0 0 0 0 0 0 0 0 0 0 0 0 0 0 0 0 0 0 0 0]\n",
            "[0 0 0 0 0 0 0 0 0 0 0 0 0 0 0 0 0 0 0 0 0 0 0 0 0 0 0 0 0 0]\n",
            "test case  38\n",
            "[0 0 0 0 4 5 0 0 0 0 0 0 2 1 3 0 0 0 0 0 0 0 0 0 0 0 0 0 0 0]\n",
            "[0 0 0 0 0 0 0 0 0 0 0 0 0 0 0 0 0 0 0 0 0 0 0 0 0 0 0 0 0 0]\n",
            "test case  39\n",
            "[0 0 0 0 0 0 0 0 0 0 0 0 0 0 0 0 0 0 0 0 0 0 0 0 0 0 0 0 0 0]\n",
            "[0 0 0 0 0 0 0 0 0 0 0 0 0 0 0 0 0 0 0 0 0 0 0 0 0 0 0 0 0 0]\n",
            "test case  40\n",
            "[0 0 0 0 0 0 0 0 0 0 0 0 0 0 0 0 0 0 0 0 0 0 0 0 0 0 0 0 0 0]\n",
            "[0 0 0 0 0 0 0 0 0 0 0 0 0 0 0 0 0 0 0 0 0 0 0 0 0 0 0 0 0 0]\n",
            "test case  41\n",
            "[0 0 0 0 0 0 0 0 0 0 0 0 0 0 0 0 0 0 0 0 0 0 0 0 0 0 0 0 0 0]\n",
            "[0 0 0 0 0 0 0 0 0 0 0 0 0 0 0 0 0 0 0 0 0 0 0 0 0 0 0 0 0 0]\n",
            "test case  42\n",
            "[0 0 0 0 0 0 0 0 0 0 0 0 0 0 0 0 0 0 0 0 0 0 0 0 0 0 0 0 0 0]\n",
            "[0 0 0 0 0 0 0 0 0 0 0 0 0 0 0 0 0 0 0 0 0 0 0 0 0 0 0 0 0 0]\n",
            "test case  43\n",
            "[0 0 0 0 0 0 0 0 0 0 0 0 0 0 0 0 0 0 0 0 0 0 0 0 0 0 0 0 0 0]\n",
            "[0 0 0 0 0 0 0 0 0 0 0 0 0 0 0 0 0 0 0 0 0 0 0 0 0 0 0 0 0 0]\n",
            "test case  44\n",
            "[0 0 0 0 0 0 0 0 0 0 0 0 0 0 0 0 0 0 0 0 0 0 0 0 0 0 0 0 0 0]\n",
            "[0 0 0 0 0 0 0 0 0 0 0 0 0 0 0 0 0 0 0 0 0 0 0 0 0 0 0 0 0 0]\n",
            "test case  45\n",
            "[0 0 0 0 0 0 0 0 0 0 0 0 0 0 0 0 0 0 0 0 0 0 0 0 0 0 0 0 0 0]\n",
            "[0 0 0 0 0 0 0 0 0 0 0 0 0 0 0 0 0 0 0 0 0 0 0 0 0 0 0 0 0 0]\n",
            "test case  46\n",
            "[0 0 0 0 0 0 0 0 0 0 0 0 0 0 0 0 0 0 0 0 0 0 0 0 0 0 0 0 0 0]\n",
            "[0 0 0 0 0 0 0 0 0 0 0 0 0 0 0 0 0 0 0 0 0 0 0 0 0 0 0 0 0 0]\n",
            "test case  47\n",
            "[1 0 0 0 0 2 0 1 0 0 0 1 0 1 0 0 0 0 0 0 0 0 0 0 0 0 0 0 0 0]\n",
            "[0 0 0 0 0 0 0 0 0 0 0 0 0 0 0 0 0 0 0 0 0 0 0 0 0 0 0 0 0 0]\n",
            "test case  48\n",
            "[0 0 0 0 0 0 0 0 0 0 0 0 0 0 0 0 0 0 0 0 0 0 0 0 0 0 0 0 0 0]\n",
            "[0 0 0 0 0 0 0 0 0 0 0 0 0 0 0 0 0 0 0 0 0 0 0 0 0 0 0 0 0 0]\n",
            "test case  49\n",
            "[0 0 0 0 0 0 0 0 0 0 0 0 0 0 0 0 0 0 0 0 0 0 0 0 0 0 0 0 0 0]\n",
            "[0 0 0 0 0 0 0 0 0 0 0 0 0 0 0 0 0 0 0 0 0 0 0 0 0 0 0 0 0 0]\n",
            "test case  50\n",
            "[0 0 0 0 0 0 0 0 0 0 0 0 0 0 0 0 0 0 0 0 0 0 0 0 0 0 0 0 0 0]\n",
            "[0 0 0 0 0 0 0 0 0 0 0 0 0 0 0 0 0 0 0 0 0 0 0 0 0 0 0 0 0 0]\n",
            "test case  51\n",
            "[0 0 0 0 0 0 0 0 0 0 0 0 0 0 0 0 0 0 0 0 0 0 0 0 0 0 0 0 0 0]\n",
            "[0 0 0 0 0 0 0 0 0 0 0 0 0 0 0 0 0 0 0 0 0 0 0 0 0 0 0 0 0 0]\n",
            "test case  52\n",
            "[1 2 0 1 0 0 0 0 0 0 0 0 0 0 0 0 0 0 0 0 0 0 0 0 0 0 0 0 0 0]\n",
            "[0 0 0 0 0 0 0 0 0 0 0 0 0 0 0 0 0 0 0 0 0 0 0 0 0 0 0 0 0 0]\n",
            "test case  53\n",
            "[0 0 0 0 0 0 0 0 2 0 1 1 0 0 0 0 0 0 0 0 0 0 0 0 0 0 0 0 0 0]\n",
            "[0 0 0 0 0 0 0 0 0 0 0 0 0 0 0 0 0 0 0 0 0 0 0 0 0 0 0 0 0 0]\n",
            "test case  54\n",
            "[0 0 0 0 0 0 0 0 0 0 0 0 0 0 0 0 0 0 0 0 0 0 0 0 0 0 0 0 0 0]\n",
            "[0 0 0 0 0 0 0 0 0 0 0 0 0 0 0 0 0 0 0 0 0 0 0 0 0 0 0 0 0 0]\n",
            "test case  55\n",
            "[0 0 0 0 0 0 0 0 0 0 0 0 0 0 0 0 0 0 0 0 0 0 0 0 0 0 0 0 0 0]\n",
            "[0 0 0 0 0 0 0 0 0 0 0 0 0 0 0 0 0 0 0 0 0 0 0 0 0 0 0 0 0 0]\n",
            "test case  56\n",
            "[0 0 0 0 0 0 0 0 0 0 0 0 0 0 0 0 0 0 0 0 0 0 0 0 0 0 0 0 0 0]\n",
            "[0 0 0 0 0 0 0 0 0 0 0 0 0 0 0 0 0 0 0 0 0 0 0 0 0 0 0 0 0 0]\n",
            "test case  57\n",
            "[0 0 0 0 0 0 0 0 0 0 0 0 0 0 0 0 0 0 0 0 0 0 0 0 0 0 0 0 0 0]\n",
            "[0 0 0 0 0 0 0 0 0 0 0 0 0 0 0 0 0 0 0 0 0 0 0 0 0 0 0 0 0 0]\n",
            "test case  58\n",
            "[0 0 0 0 0 0 0 0 0 0 0 0 0 0 0 0 0 0 0 0 0 0 0 0 0 0 0 0 0 0]\n",
            "[0 0 0 0 0 0 0 0 0 0 0 0 0 0 0 0 0 0 0 0 0 0 0 0 0 0 0 0 0 0]\n",
            "test case  59\n",
            "[0 0 0 0 0 0 0 0 0 0 0 0 0 0 0 0 0 0 0 0 0 0 0 0 0 0 0 0 0 0]\n",
            "[0 0 0 0 0 0 0 0 0 0 0 0 0 0 0 0 0 0 0 0 0 0 0 0 0 0 0 0 0 0]\n",
            "test case  60\n",
            "[0 0 0 0 0 0 0 0 0 0 0 0 0 0 0 0 0 0 0 0 0 0 0 0 0 0 0 0 0 0]\n",
            "[0 0 0 0 0 0 0 0 0 0 0 0 0 0 0 0 0 0 0 0 0 0 0 0 0 0 0 0 0 0]\n",
            "test case  61\n",
            "[0 0 0 0 0 0 0 0 0 0 0 0 0 0 0 0 0 0 0 0 0 0 0 0 0 0 0 0 0 0]\n",
            "[0 0 0 0 0 0 0 0 0 0 0 0 0 0 0 0 0 0 0 0 0 0 0 0 0 0 0 0 0 0]\n",
            "test case  62\n",
            "[0 0 0 0 0 0 0 0 0 0 0 0 0 0 0 0 0 0 0 0 0 0 0 0 0 0 0 0 0 0]\n",
            "[0 0 0 0 0 0 0 0 0 0 0 0 0 0 0 0 0 0 0 0 0 0 0 0 0 0 0 0 0 0]\n"
          ],
          "name": "stdout"
        }
      ]
    },
    {
      "cell_type": "code",
      "metadata": {
        "id": "yn17ByPc5SHg",
        "colab_type": "code",
        "colab": {},
        "outputId": "c10177f0-0c85-4e61-9db5-4e5153009428"
      },
      "source": [
        "from  sklearn_crfsuite.metrics import flat_classification_report  \n",
        "report = flat_classification_report(y_pred=y_pred, y_true=y_test)\n",
        "print(report)"
      ],
      "execution_count": null,
      "outputs": [
        {
          "output_type": "stream",
          "text": [
            "              precision    recall  f1-score   support\n",
            "\n",
            "           0       0.97      1.00      0.98      1824\n",
            "           1       0.50      0.11      0.18        27\n",
            "           2       0.00      0.00      0.00        17\n",
            "           3       0.00      0.00      0.00         3\n",
            "           4       0.00      0.00      0.00         8\n",
            "           5       0.00      0.00      0.00         8\n",
            "           6       0.00      0.00      0.00         1\n",
            "           7       0.00      0.00      0.00         0\n",
            "           8       0.00      0.00      0.00         1\n",
            "           9       0.00      0.00      0.00         0\n",
            "          10       0.00      0.00      0.00         0\n",
            "          11       0.00      0.00      0.00         1\n",
            "          12       0.00      0.00      0.00         0\n",
            "          13       0.00      0.00      0.00         0\n",
            "          14       0.00      0.00      0.00         0\n",
            "          15       0.00      0.00      0.00         0\n",
            "          16       0.00      0.00      0.00         0\n",
            "          17       0.00      0.00      0.00         0\n",
            "\n",
            "   micro avg       0.97      0.97      0.97      1890\n",
            "   macro avg       0.08      0.06      0.06      1890\n",
            "weighted avg       0.94      0.97      0.95      1890\n",
            " samples avg       0.97      0.97      0.97      1890\n",
            "\n"
          ],
          "name": "stdout"
        },
        {
          "output_type": "stream",
          "text": [
            "C:\\conda\\Anaconda3\\lib\\site-packages\\sklearn\\utils\\validation.py:71: FutureWarning: Pass labels=None as keyword args. From version 0.25 passing these as positional arguments will result in an error\n",
            "  FutureWarning)\n",
            "C:\\conda\\Anaconda3\\lib\\site-packages\\sklearn\\metrics\\_classification.py:1221: UndefinedMetricWarning: Precision and F-score are ill-defined and being set to 0.0 in labels with no predicted samples. Use `zero_division` parameter to control this behavior.\n",
            "  _warn_prf(average, modifier, msg_start, len(result))\n",
            "C:\\conda\\Anaconda3\\lib\\site-packages\\sklearn\\metrics\\_classification.py:1221: UndefinedMetricWarning: Recall and F-score are ill-defined and being set to 0.0 in labels with no true samples. Use `zero_division` parameter to control this behavior.\n",
            "  _warn_prf(average, modifier, msg_start, len(result))\n"
          ],
          "name": "stderr"
        }
      ]
    },
    {
      "cell_type": "code",
      "metadata": {
        "id": "Ew_B_yNW5SHj",
        "colab_type": "code",
        "colab": {}
      },
      "source": [
        ""
      ],
      "execution_count": null,
      "outputs": []
    }
  ]
}